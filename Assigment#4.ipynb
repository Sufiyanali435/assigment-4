{
 "cells": [
  {
   "cell_type": "markdown",
   "id": "d5890ddd",
   "metadata": {},
   "source": [
    "# PHONEBOOK"
   ]
  },
  {
   "cell_type": "code",
   "execution_count": 17,
   "id": "5b8a2d80",
   "metadata": {},
   "outputs": [
    {
     "name": "stdout",
     "output_type": "stream",
     "text": [
      "Enter The Numbers Of Element: 2\n",
      "Entert The Key: Sufiyan\n",
      "Enter The Value: 09876543211\n",
      "Entert The Key: Ali\n",
      "Enter The Value: 12345678900\n",
      "{'Sufiyan': '09876543211', 'Ali': '12345678900'}\n"
     ]
    }
   ],
   "source": [
    "# Geting Input From user And Trun It Into dictonary Multiple Times\n",
    "\n",
    "a ={}\n",
    "b = int(input(\"Enter The Numbers Of Element: \"))\n",
    "for i in range(b):\n",
    "    c = input(\"Entert The Key: \");\n",
    "    d = input(\"Enter The Value: \");\n",
    "    a.update({c:d})\n",
    "print(a);"
   ]
  },
  {
   "cell_type": "code",
   "execution_count": null,
   "id": "fa743932",
   "metadata": {},
   "outputs": [],
   "source": []
  }
 ],
 "metadata": {
  "kernelspec": {
   "display_name": "Python 3",
   "language": "python",
   "name": "python3"
  },
  "language_info": {
   "codemirror_mode": {
    "name": "ipython",
    "version": 3
   },
   "file_extension": ".py",
   "mimetype": "text/x-python",
   "name": "python",
   "nbconvert_exporter": "python",
   "pygments_lexer": "ipython3",
   "version": "3.8.8"
  }
 },
 "nbformat": 4,
 "nbformat_minor": 5
}
